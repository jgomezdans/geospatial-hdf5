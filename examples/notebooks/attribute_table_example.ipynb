{
 "cells": [
  {
   "cell_type": "code",
   "execution_count": 12,
   "metadata": {
    "collapsed": true
   },
   "outputs": [],
   "source": [
    "import numpy\n",
    "from scipy import ndimage\n",
    "import pandas\n",
    "from geoh5 import kea\n",
    "from geoh5.kea import common as kc\n",
    "\n",
    "# https://github.com/sixy6e/image-processing\n",
    "from image_processing.segmentation import Segments"
   ]
  },
  {
   "cell_type": "markdown",
   "metadata": {},
   "source": [
    "In this example we'll create a segmented array, and compute some basic statistics for every segment\n",
    "(min, max, mean, standard deviation, total, area), and output both the segmented array and the\n",
    "associated dataframe (as a raster attribute table) to disk."
   ]
  },
  {
   "cell_type": "code",
   "execution_count": 13,
   "metadata": {
    "collapsed": true
   },
   "outputs": [],
   "source": [
    "# data dimensions\n",
    "dims = (1000, 1000)\n",
    "\n",
    "# create some random data and segment via value > 5000\n",
    "seg_data = numpy.random.randint(0, 10001, dims).astype('uint32')\n",
    "seg_data, nlabels = ndimage.label(seg_data > 5000)\n",
    "\n",
    "# create some random data to calculate stats against\n",
    "data = numpy.random.ranf(dims)\n",
    "\n",
    "# create a segments class object\n",
    "seg = Segments(seg_data, include_zero=True)"
   ]
  },
  {
   "cell_type": "code",
   "execution_count": 14,
   "metadata": {
    "collapsed": false
   },
   "outputs": [],
   "source": [
    "# retrieve basic stats (min, max, mean, standard deviation, total, area)\n",
    "stats_table = seg.basic_statistics(data, dataframe=True)"
   ]
  },
  {
   "cell_type": "code",
   "execution_count": 15,
   "metadata": {
    "collapsed": false
   },
   "outputs": [],
   "source": [
    "# join via segment id, specifying 'outer' will account for empty segments\n",
    "df = pandas.DataFrame({\"Histogram\": seg.histogram})\n",
    "df[\"Segment_IDs\"] = df.index\n",
    "stats_table = pandas.merge(df, stats_table, how='outer', on=\"Segment_IDs\")\n",
    "nrows = stats_table.shape[0]"
   ]
  },
  {
   "cell_type": "code",
   "execution_count": 16,
   "metadata": {
    "collapsed": true
   },
   "outputs": [],
   "source": [
    "# assign random colours to each segment\n",
    "stats_table.insert(1, \"Red\", numpy.random.randint(0, 256, (nrows)))\n",
    "stats_table.insert(2, \"Green\", numpy.random.randint(0, 256, (nrows)))\n",
    "stats_table.insert(3, \"Blue\", numpy.random.randint(0, 256, (nrows)))\n",
    "stats_table.insert(4, \"Alpha\", 255)"
   ]
  },
  {
   "cell_type": "code",
   "execution_count": 17,
   "metadata": {
    "collapsed": true
   },
   "outputs": [],
   "source": [
    "# define the output image specifications\n",
    "kwargs = {'width': dims[1],\n",
    "          'height': dims[0],\n",
    "          'count': 1,\n",
    "          'compression': 4,\n",
    "          'chunks': (100, 100),\n",
    "          'blocksize': 100,\n",
    "          'dtype': seg_data.dtype.name}"
   ]
  },
  {
   "cell_type": "code",
   "execution_count": 18,
   "metadata": {
    "collapsed": false
   },
   "outputs": [],
   "source": [
    " with kea.open('attribute-table-example.kea', 'w', **kwargs) as src:\n",
    "    src.write(seg_data, 1)\n",
    "    \n",
    "    # define the layer type as thematic (labelled, classified etc)\n",
    "    src.write_layer_type(1, kc.LayerType.thematic)\n",
    "    \n",
    "    # write the stats table as an attribute table\n",
    "    usage = {\"Red\": \"Red\",\n",
    "             \"Green\": \"Green\",\n",
    "             \"Blue\": \"Blue\",\n",
    "             \"Alpha\": \"Alpha\",\n",
    "             \"Histogram\": \"PixelCount\"}\n",
    "    \n",
    "    src.write_rat(stats_table, 1, usage=usage)"
   ]
  },
  {
   "cell_type": "code",
   "execution_count": 19,
   "metadata": {
    "collapsed": true
   },
   "outputs": [],
   "source": [
    "with kea.open('attribute-table-example.kea') as ds:\n",
    "    tbl = ds.read_rat()"
   ]
  },
  {
   "cell_type": "code",
   "execution_count": 20,
   "metadata": {
    "collapsed": false
   },
   "outputs": [
    {
     "data": {
      "text/html": [
       "<div>\n",
       "<table border=\"1\" class=\"dataframe\">\n",
       "  <thead>\n",
       "    <tr style=\"text-align: right;\">\n",
       "      <th></th>\n",
       "      <th>Histogram</th>\n",
       "      <th>Red</th>\n",
       "      <th>Green</th>\n",
       "      <th>Blue</th>\n",
       "      <th>Alpha</th>\n",
       "      <th>Segment_IDs</th>\n",
       "      <th>Mean</th>\n",
       "      <th>Max</th>\n",
       "      <th>Min</th>\n",
       "      <th>StdDev</th>\n",
       "      <th>Total</th>\n",
       "      <th>Area</th>\n",
       "    </tr>\n",
       "  </thead>\n",
       "  <tbody>\n",
       "    <tr>\n",
       "      <th>0</th>\n",
       "      <td>500221</td>\n",
       "      <td>28</td>\n",
       "      <td>50</td>\n",
       "      <td>184</td>\n",
       "      <td>255</td>\n",
       "      <td>0</td>\n",
       "      <td>0.499639</td>\n",
       "      <td>0.999999</td>\n",
       "      <td>1.068949e-08</td>\n",
       "      <td>0.288502</td>\n",
       "      <td>249929.761242</td>\n",
       "      <td>500221.0</td>\n",
       "    </tr>\n",
       "    <tr>\n",
       "      <th>1</th>\n",
       "      <td>2</td>\n",
       "      <td>238</td>\n",
       "      <td>70</td>\n",
       "      <td>7</td>\n",
       "      <td>255</td>\n",
       "      <td>1</td>\n",
       "      <td>0.148364</td>\n",
       "      <td>0.172366</td>\n",
       "      <td>1.243627e-01</td>\n",
       "      <td>0.033944</td>\n",
       "      <td>0.296729</td>\n",
       "      <td>2.0</td>\n",
       "    </tr>\n",
       "    <tr>\n",
       "      <th>2</th>\n",
       "      <td>9</td>\n",
       "      <td>36</td>\n",
       "      <td>98</td>\n",
       "      <td>197</td>\n",
       "      <td>255</td>\n",
       "      <td>2</td>\n",
       "      <td>0.546282</td>\n",
       "      <td>0.962201</td>\n",
       "      <td>8.218545e-02</td>\n",
       "      <td>0.308096</td>\n",
       "      <td>4.916539</td>\n",
       "      <td>9.0</td>\n",
       "    </tr>\n",
       "    <tr>\n",
       "      <th>3</th>\n",
       "      <td>2</td>\n",
       "      <td>117</td>\n",
       "      <td>34</td>\n",
       "      <td>163</td>\n",
       "      <td>255</td>\n",
       "      <td>3</td>\n",
       "      <td>0.539421</td>\n",
       "      <td>0.546062</td>\n",
       "      <td>5.327807e-01</td>\n",
       "      <td>0.009391</td>\n",
       "      <td>1.078843</td>\n",
       "      <td>2.0</td>\n",
       "    </tr>\n",
       "    <tr>\n",
       "      <th>4</th>\n",
       "      <td>1</td>\n",
       "      <td>40</td>\n",
       "      <td>3</td>\n",
       "      <td>95</td>\n",
       "      <td>255</td>\n",
       "      <td>4</td>\n",
       "      <td>0.282635</td>\n",
       "      <td>0.282635</td>\n",
       "      <td>2.826354e-01</td>\n",
       "      <td>NaN</td>\n",
       "      <td>0.282635</td>\n",
       "      <td>1.0</td>\n",
       "    </tr>\n",
       "  </tbody>\n",
       "</table>\n",
       "</div>"
      ],
      "text/plain": [
       "   Histogram  Red  Green  Blue  Alpha  Segment_IDs      Mean       Max  \\\n",
       "0     500221   28     50   184    255            0  0.499639  0.999999   \n",
       "1          2  238     70     7    255            1  0.148364  0.172366   \n",
       "2          9   36     98   197    255            2  0.546282  0.962201   \n",
       "3          2  117     34   163    255            3  0.539421  0.546062   \n",
       "4          1   40      3    95    255            4  0.282635  0.282635   \n",
       "\n",
       "            Min    StdDev          Total      Area  \n",
       "0  1.068949e-08  0.288502  249929.761242  500221.0  \n",
       "1  1.243627e-01  0.033944       0.296729       2.0  \n",
       "2  8.218545e-02  0.308096       4.916539       9.0  \n",
       "3  5.327807e-01  0.009391       1.078843       2.0  \n",
       "4  2.826354e-01       NaN       0.282635       1.0  "
      ]
     },
     "execution_count": 20,
     "metadata": {},
     "output_type": "execute_result"
    }
   ],
   "source": [
    "tbl.head(5)"
   ]
  },
  {
   "cell_type": "code",
   "execution_count": 21,
   "metadata": {
    "collapsed": false
   },
   "outputs": [
    {
     "data": {
      "text/html": [
       "<div>\n",
       "<table border=\"1\" class=\"dataframe\">\n",
       "  <thead>\n",
       "    <tr style=\"text-align: right;\">\n",
       "      <th></th>\n",
       "      <th>Histogram</th>\n",
       "      <th>Red</th>\n",
       "      <th>Green</th>\n",
       "      <th>Blue</th>\n",
       "      <th>Alpha</th>\n",
       "      <th>Segment_IDs</th>\n",
       "      <th>Mean</th>\n",
       "      <th>Max</th>\n",
       "      <th>Min</th>\n",
       "      <th>StdDev</th>\n",
       "      <th>Total</th>\n",
       "      <th>Area</th>\n",
       "    </tr>\n",
       "  </thead>\n",
       "  <tbody>\n",
       "    <tr>\n",
       "      <th>0</th>\n",
       "      <td>500221</td>\n",
       "      <td>28</td>\n",
       "      <td>50</td>\n",
       "      <td>184</td>\n",
       "      <td>255</td>\n",
       "      <td>0</td>\n",
       "      <td>0.499639</td>\n",
       "      <td>0.999999</td>\n",
       "      <td>1.068949e-08</td>\n",
       "      <td>0.288502</td>\n",
       "      <td>249929.761242</td>\n",
       "      <td>500221.0</td>\n",
       "    </tr>\n",
       "    <tr>\n",
       "      <th>1</th>\n",
       "      <td>2</td>\n",
       "      <td>238</td>\n",
       "      <td>70</td>\n",
       "      <td>7</td>\n",
       "      <td>255</td>\n",
       "      <td>1</td>\n",
       "      <td>0.148364</td>\n",
       "      <td>0.172366</td>\n",
       "      <td>1.243627e-01</td>\n",
       "      <td>0.033944</td>\n",
       "      <td>0.296729</td>\n",
       "      <td>2.0</td>\n",
       "    </tr>\n",
       "    <tr>\n",
       "      <th>2</th>\n",
       "      <td>9</td>\n",
       "      <td>36</td>\n",
       "      <td>98</td>\n",
       "      <td>197</td>\n",
       "      <td>255</td>\n",
       "      <td>2</td>\n",
       "      <td>0.546282</td>\n",
       "      <td>0.962201</td>\n",
       "      <td>8.218545e-02</td>\n",
       "      <td>0.308096</td>\n",
       "      <td>4.916539</td>\n",
       "      <td>9.0</td>\n",
       "    </tr>\n",
       "    <tr>\n",
       "      <th>3</th>\n",
       "      <td>2</td>\n",
       "      <td>117</td>\n",
       "      <td>34</td>\n",
       "      <td>163</td>\n",
       "      <td>255</td>\n",
       "      <td>3</td>\n",
       "      <td>0.539421</td>\n",
       "      <td>0.546062</td>\n",
       "      <td>5.327807e-01</td>\n",
       "      <td>0.009391</td>\n",
       "      <td>1.078843</td>\n",
       "      <td>2.0</td>\n",
       "    </tr>\n",
       "    <tr>\n",
       "      <th>4</th>\n",
       "      <td>1</td>\n",
       "      <td>40</td>\n",
       "      <td>3</td>\n",
       "      <td>95</td>\n",
       "      <td>255</td>\n",
       "      <td>4</td>\n",
       "      <td>0.282635</td>\n",
       "      <td>0.282635</td>\n",
       "      <td>2.826354e-01</td>\n",
       "      <td>NaN</td>\n",
       "      <td>0.282635</td>\n",
       "      <td>1.0</td>\n",
       "    </tr>\n",
       "  </tbody>\n",
       "</table>\n",
       "</div>"
      ],
      "text/plain": [
       "   Histogram  Red  Green  Blue  Alpha  Segment_IDs      Mean       Max  \\\n",
       "0     500221   28     50   184    255            0  0.499639  0.999999   \n",
       "1          2  238     70     7    255            1  0.148364  0.172366   \n",
       "2          9   36     98   197    255            2  0.546282  0.962201   \n",
       "3          2  117     34   163    255            3  0.539421  0.546062   \n",
       "4          1   40      3    95    255            4  0.282635  0.282635   \n",
       "\n",
       "            Min    StdDev          Total      Area  \n",
       "0  1.068949e-08  0.288502  249929.761242  500221.0  \n",
       "1  1.243627e-01  0.033944       0.296729       2.0  \n",
       "2  8.218545e-02  0.308096       4.916539       9.0  \n",
       "3  5.327807e-01  0.009391       1.078843       2.0  \n",
       "4  2.826354e-01       NaN       0.282635       1.0  "
      ]
     },
     "execution_count": 21,
     "metadata": {},
     "output_type": "execute_result"
    }
   ],
   "source": [
    "stats_table.head(5)"
   ]
  },
  {
   "cell_type": "code",
   "execution_count": null,
   "metadata": {
    "collapsed": true
   },
   "outputs": [],
   "source": []
  }
 ],
 "metadata": {
  "kernelspec": {
   "display_name": "Python 2",
   "language": "python",
   "name": "python2"
  },
  "language_info": {
   "codemirror_mode": {
    "name": "ipython",
    "version": 2
   },
   "file_extension": ".py",
   "mimetype": "text/x-python",
   "name": "python",
   "nbconvert_exporter": "python",
   "pygments_lexer": "ipython2",
   "version": "2.7.11"
  }
 },
 "nbformat": 4,
 "nbformat_minor": 0
}
