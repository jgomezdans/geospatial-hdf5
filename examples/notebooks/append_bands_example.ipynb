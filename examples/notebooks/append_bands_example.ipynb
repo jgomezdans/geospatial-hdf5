{
 "cells": [
  {
   "cell_type": "code",
   "execution_count": 1,
   "metadata": {
    "collapsed": true
   },
   "outputs": [],
   "source": [
    "import numpy\n",
    "from scipy import ndimage\n",
    "import pandas\n",
    "from geoh5 import kea"
   ]
  },
  {
   "cell_type": "markdown",
   "metadata": {},
   "source": [
    "In this example we initially create a single band image, then append two more."
   ]
  },
  {
   "cell_type": "code",
   "execution_count": 2,
   "metadata": {
    "collapsed": true
   },
   "outputs": [],
   "source": [
    "# data dimensions\n",
    "dims = (1000, 1000)\n",
    "\n",
    "# random data\n",
    "data = numpy.random.ranf(dims)\n",
    "dtype = data.dtype.name"
   ]
  },
  {
   "cell_type": "code",
   "execution_count": 3,
   "metadata": {
    "collapsed": true
   },
   "outputs": [],
   "source": [
    "# define a single output band and add other bands later\n",
    "kwargs = {'width': dims[1],\n",
    "          'height': dims[0],\n",
    "          'count': 1,\n",
    "          'compression': 4,\n",
    "          'chunks': (100, 100),\n",
    "          'blocksize': 100,\n",
    "          'dtype': dtype}"
   ]
  },
  {
   "cell_type": "code",
   "execution_count": 4,
   "metadata": {
    "collapsed": true
   },
   "outputs": [],
   "source": [
    "with kea.open('append-bands-example.kea', 'w', **kwargs) as src:\n",
    "    src.write(data, 1)\n",
    "    \n",
    "    # random data\n",
    "    data = numpy.random.ranf(dims)\n",
    "    \n",
    "    # add a new band to contain the segments data\n",
    "    src.add_image_band(dtype=dtype, chunks=kwargs['chunks'],\n",
    "                       blocksize=kwargs['blocksize'], compression=6,\n",
    "                       band_name='Add One')\n",
    "    \n",
    "    # write the data\n",
    "    src.write(data, 2)\n",
    "    \n",
    "    # random data\n",
    "    data = numpy.random.ranf(dims)\n",
    "    \n",
    "    # add a new band to contain the segments data\n",
    "    src.add_image_band(dtype=dtype, chunks=kwargs['chunks'],\n",
    "                       blocksize=kwargs['blocksize'], compression=1,\n",
    "                       band_name='Then Another')\n",
    "    \n",
    "    # write the data\n",
    "    src.write(data, 3)"
   ]
  },
  {
   "cell_type": "code",
   "execution_count": null,
   "metadata": {
    "collapsed": true
   },
   "outputs": [],
   "source": []
  }
 ],
 "metadata": {
  "kernelspec": {
   "display_name": "Python 2",
   "language": "python",
   "name": "python2"
  },
  "language_info": {
   "codemirror_mode": {
    "name": "ipython",
    "version": 2
   },
   "file_extension": ".py",
   "mimetype": "text/x-python",
   "name": "python",
   "nbconvert_exporter": "python",
   "pygments_lexer": "ipython2",
   "version": "2.7.11"
  }
 },
 "nbformat": 4,
 "nbformat_minor": 0
}
