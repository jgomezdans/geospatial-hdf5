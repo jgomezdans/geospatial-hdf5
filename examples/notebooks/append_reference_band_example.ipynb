{
 "cells": [
  {
   "cell_type": "code",
   "execution_count": 1,
   "metadata": {
    "collapsed": true
   },
   "outputs": [],
   "source": [
    "import numpy\n",
    "from scipy import ndimage\n",
    "import pandas\n",
    "from geoh5 import kea\n",
    "from geoh5.kea import common as kc\n",
    "\n",
    "# https://github.com/sixy6e/image-processing\n",
    "from image_processing.segmentation import Segments"
   ]
  },
  {
   "cell_type": "markdown",
   "metadata": {},
   "source": [
    "In this example we'll create a segmented array, and compute some basic statistics for every segment\n",
    "(min, max, mean, standard deviation, total, area), and output both the segmented array and the\n",
    "associated dataframe (as a raster attribute table) to disk.\n",
    "\n",
    "Add another raster band to the dataset as a linked/reference dataset.\n",
    "Compute basic stats for the same segments, but using differentinput data,\n",
    "and save the new raster attribute table to the new `reference/linked` band.\n",
    "\n",
    "The idea behind storing the the image as a `reference/linked` dataset, is that the segmented array\n",
    "is not changing, so we shouldn't need to store the same data on disk."
   ]
  },
  {
   "cell_type": "code",
   "execution_count": 2,
   "metadata": {
    "collapsed": true
   },
   "outputs": [],
   "source": [
    "# data dimensions\n",
    "dims = (1000, 1000)\n",
    "\n",
    "# create some random data and segment via value > 5000\n",
    "seg_data = numpy.random.randint(0, 10001, dims).astype('uint32')\n",
    "seg_data, nlabels = ndimage.label(seg_data > 5000)\n",
    "\n",
    "# create some random data to calculate stats against\n",
    "data = numpy.random.ranf(dims)\n",
    "\n",
    "# create a segments class object\n",
    "seg = Segments(seg_data, include_zero=True)"
   ]
  },
  {
   "cell_type": "code",
   "execution_count": 3,
   "metadata": {
    "collapsed": false
   },
   "outputs": [
    {
     "name": "stderr",
     "output_type": "stream",
     "text": [
      "/home/sixy/opt/spack/opt/spack/linux-x86_64/gcc-4.9.2/py-numpy-1.11.0-v54rmbz3gbrlnk6ribvftozp6kd6mqry/lib/python2.7/site-packages/numpy-1.11.0-py2.7-linux-x86_64.egg/numpy/core/_methods.py:82: RuntimeWarning: Degrees of freedom <= 0 for slice\n",
      "  warnings.warn(\"Degrees of freedom <= 0 for slice\", RuntimeWarning)\n"
     ]
    }
   ],
   "source": [
    "# retrieve basic stats (min, max, mean, standard deviation, total, area)\n",
    "stats_table = seg.basic_statistics(data, dataframe=True)"
   ]
  },
  {
   "cell_type": "code",
   "execution_count": 4,
   "metadata": {
    "collapsed": true
   },
   "outputs": [],
   "source": [
    "# join via segment id, specifying 'outer' will account for empty segments\n",
    "df = pandas.DataFrame({\"Histogram\": seg.histogram})\n",
    "df[\"Segment_IDs\"] = df.index\n",
    "stats_table = pandas.merge(df, stats_table, how='outer', on=\"Segment_IDs\")\n",
    "nrows = stats_table.shape[0]"
   ]
  },
  {
   "cell_type": "code",
   "execution_count": 5,
   "metadata": {
    "collapsed": true
   },
   "outputs": [],
   "source": [
    "# assign random colours to each segment\n",
    "stats_table.insert(1, \"Red\", numpy.random.randint(0, 256, (nrows)))\n",
    "stats_table.insert(2, \"Green\", numpy.random.randint(0, 256, (nrows)))\n",
    "stats_table.insert(3, \"Blue\", numpy.random.randint(0, 256, (nrows)))\n",
    "stats_table.insert(4, \"Alpha\", 255)"
   ]
  },
  {
   "cell_type": "code",
   "execution_count": 6,
   "metadata": {
    "collapsed": true
   },
   "outputs": [],
   "source": [
    "# define the output image specifications\n",
    "kwargs = {'width': dims[1],\n",
    "          'height': dims[0],\n",
    "          'count': 1,\n",
    "          'compression': 4,\n",
    "          'chunks': (100, 100),\n",
    "          'blocksize': 100,\n",
    "          'dtype': seg_data.dtype.name}"
   ]
  },
  {
   "cell_type": "code",
   "execution_count": 7,
   "metadata": {
    "collapsed": true
   },
   "outputs": [],
   "source": [
    "with kea.open('add-reference-band-example.kea', 'w', **kwargs) as src:\n",
    "    src.write(seg_data, 1)\n",
    "    \n",
    "    # define the layer type as thematic (labelled, classified etc)\n",
    "    src.write_layer_type(1, kc.LayerType.thematic)\n",
    "    \n",
    "    # write the stats table as an attribute table\n",
    "    usage = {\"Red\": \"Red\",\n",
    "             \"Green\": \"Green\",\n",
    "             \"Blue\": \"Blue\",\n",
    "             \"Alpha\": \"Alpha\",\n",
    "             \"Histogram\": \"PixelCount\"}\n",
    "    \n",
    "    src.write_rat(stats_table, 1, usage=usage)\n",
    "\n",
    "    # add a new image band, but as a reference to band 1\n",
    "    src.add_image_band(band_name='Reference to band 1', link=1)\n",
    "    src.write_layer_type(2, kc.LayerType.thematic)\n",
    "\n",
    "    # create some random data to calculate stats against\n",
    "    data = numpy.random.ranf(dims)\n",
    "\n",
    "    # retrieve basic stats (min, max, mean, standard deviation, total, area)\n",
    "    stats_table2 = seg.basic_statistics(data, dataframe=True)\n",
    "\n",
    "    # join via segment id, specifying 'outer' will account for empty segments\n",
    "    df = pandas.DataFrame({\"Histogram\": seg.histogram})\n",
    "    df[\"Segment_IDs\"] = df.index\n",
    "    stats_table2 = pandas.merge(df, stats_table2, how='outer', on=\"Segment_IDs\") \n",
    "\n",
    "    # insert colors\n",
    "    stats_table2.insert(1, \"Red\", stats_table[\"Red\"])\n",
    "    stats_table2.insert(2, \"Green\", stats_table[\"Green\"])\n",
    "    stats_table2.insert(3, \"Blue\", stats_table[\"Blue\"])\n",
    "    stats_table2.insert(4, \"Alpha\", 255)\n",
    "\n",
    "    # write the rat to the newly created band 2\n",
    "    src.write_rat(stats_table2, 2, usage=usage)"
   ]
  },
  {
   "cell_type": "code",
   "execution_count": null,
   "metadata": {
    "collapsed": true
   },
   "outputs": [],
   "source": []
  }
 ],
 "metadata": {
  "kernelspec": {
   "display_name": "Python 2",
   "language": "python",
   "name": "python2"
  },
  "language_info": {
   "codemirror_mode": {
    "name": "ipython",
    "version": 2
   },
   "file_extension": ".py",
   "mimetype": "text/x-python",
   "name": "python",
   "nbconvert_exporter": "python",
   "pygments_lexer": "ipython2",
   "version": "2.7.11"
  }
 },
 "nbformat": 4,
 "nbformat_minor": 0
}
