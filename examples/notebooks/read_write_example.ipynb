{
 "cells": [
  {
   "cell_type": "code",
   "execution_count": 1,
   "metadata": {
    "collapsed": true
   },
   "outputs": [],
   "source": [
    "import numpy\n",
    "from geoh5 import kea"
   ]
  },
  {
   "cell_type": "markdown",
   "metadata": {},
   "source": [
    "In this example we'll show how to read and write data with the KEA file format."
   ]
  },
  {
   "cell_type": "code",
   "execution_count": 2,
   "metadata": {
    "collapsed": true
   },
   "outputs": [],
   "source": [
    "# create some data\n",
    "data = numpy.random.randint(0, 256, (6, 100, 100)).astype('uint8')"
   ]
  },
  {
   "cell_type": "code",
   "execution_count": 3,
   "metadata": {
    "collapsed": true
   },
   "outputs": [],
   "source": [
    "# image specs\n",
    "count, height, width = data.shape\n",
    "kwargs = {'width': width,\n",
    "          'height': height,\n",
    "          'count': count,\n",
    "          'dtype': data.dtype.name,\n",
    "          'compression': 2,\n",
    "          'no_data': 0,\n",
    "          'chunks': (25, 25),\n",
    "          'blocksize': 25}"
   ]
  },
  {
   "cell_type": "code",
   "execution_count": 4,
   "metadata": {
    "collapsed": true
   },
   "outputs": [],
   "source": [
    "# write to disk\n",
    "with kea.open('file-1.kea', 'w', **kwargs) as src:\n",
    "    src.write(data, bands=range(1, count+1))"
   ]
  },
  {
   "cell_type": "code",
   "execution_count": 5,
   "metadata": {
    "collapsed": true
   },
   "outputs": [],
   "source": [
    "# re-open as a new file object\n",
    "with kea.open('file-1.kea', 'r') as src:\n",
    "    # Read the first band\n",
    "    data = src.read(1)\n",
    "    \n",
    "    # Read bands [4, 3, 2] and return in that order\n",
    "    data = src.read([4,3,2])"
   ]
  },
  {
   "cell_type": "code",
   "execution_count": 6,
   "metadata": {
    "collapsed": true
   },
   "outputs": [],
   "source": [
    "# new image output specs\n",
    "kwargs = {'width': src.width,\n",
    "          'height': src.height,\n",
    "          'count': 3,\n",
    "          'transform': src.transform,\n",
    "          'crs': src.crs,\n",
    "          'compression': 4,\n",
    "          'no_data': src.no_data[1],\n",
    "          'chunks': (50, 50),\n",
    "          'blocksize': 50,\n",
    "          'dtype': src.dtype}"
   ]
  },
  {
   "cell_type": "code",
   "execution_count": 7,
   "metadata": {
    "collapsed": true
   },
   "outputs": [],
   "source": [
    "# create a new output file\n",
    "with kea.open('file-2.kea', 'w', **kwargs) as out_src:\n",
    "    # Write the first band of data into band 3 on disk, etc..\n",
    "    out_src.write(data, bands=[3,2,1])"
   ]
  },
  {
   "cell_type": "code",
   "execution_count": null,
   "metadata": {
    "collapsed": true
   },
   "outputs": [],
   "source": []
  }
 ],
 "metadata": {
  "kernelspec": {
   "display_name": "Python 2",
   "language": "python",
   "name": "python2"
  },
  "language_info": {
   "codemirror_mode": {
    "name": "ipython",
    "version": 2
   },
   "file_extension": ".py",
   "mimetype": "text/x-python",
   "name": "python",
   "nbconvert_exporter": "python",
   "pygments_lexer": "ipython2",
   "version": "2.7.11"
  }
 },
 "nbformat": 4,
 "nbformat_minor": 0
}
