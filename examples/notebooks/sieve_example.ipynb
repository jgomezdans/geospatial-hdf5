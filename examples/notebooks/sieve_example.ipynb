{
 "cells": [
  {
   "cell_type": "code",
   "execution_count": 1,
   "metadata": {
    "collapsed": true
   },
   "outputs": [],
   "source": [
    "import numpy\n",
    "from scipy import ndimage\n",
    "import pandas\n",
    "from geoh5 import kea\n",
    "from geoh5.kea import common as kc\n",
    "\n",
    "# https://github.com/sixy6e/image-processing\n",
    "from image_processing.segmentation import Segments"
   ]
  },
  {
   "cell_type": "markdown",
   "metadata": {},
   "source": [
    "In this example we'll create a segmented array, and compute some basic statistics for every segment\n",
    "(min, max, mean, standard deviation, total, area), and output both the segmented array and the\n",
    "associated dataframe (as a raster attribute table) to disk.\n",
    "\n",
    "The sieving filter will remove segements containing < 30 pixels."
   ]
  },
  {
   "cell_type": "code",
   "execution_count": 2,
   "metadata": {
    "collapsed": true
   },
   "outputs": [],
   "source": [
    "# data dimensions and datatype\n",
    "dims = (1000, 1000)\n",
    "dtype = 'int32'\n",
    "\n",
    "# create some random data and segment via value > 5000\n",
    "seg_data = numpy.random.randint(0, 10001, dims).astype('uint32')\n",
    "seg_data, nlabels = ndimage.label(seg_data > 5000)\n",
    "\n",
    "# create some random data to calculate stats against\n",
    "data = numpy.random.ranf(dims)\n",
    "\n",
    "# create a segments class object\n",
    "seg = Segments(seg_data, include_zero=True)"
   ]
  },
  {
   "cell_type": "code",
   "execution_count": 3,
   "metadata": {
    "collapsed": false
   },
   "outputs": [
    {
     "name": "stdout",
     "output_type": "stream",
     "text": [
      "Number of segments: 66341\n"
     ]
    }
   ],
   "source": [
    "# initial number of segments\n",
    "print \"Number of segments: {}\".format(seg.n_segments)"
   ]
  },
  {
   "cell_type": "code",
   "execution_count": 4,
   "metadata": {
    "collapsed": false
   },
   "outputs": [
    {
     "name": "stdout",
     "output_type": "stream",
     "text": [
      "Number of segments: 3759\n"
     ]
    }
   ],
   "source": [
    "# remove segments containing < 30 pixels\n",
    "seg.sieve(30)\n",
    "print \"Number of segments: {}\".format(seg.n_segments)"
   ]
  },
  {
   "cell_type": "code",
   "execution_count": 5,
   "metadata": {
    "collapsed": true
   },
   "outputs": [],
   "source": [
    "# basic stats (min, max, mean, standard deviation, total, area)\n",
    "stats_table = seg.basic_statistics(data, dataframe=True)"
   ]
  },
  {
   "cell_type": "code",
   "execution_count": 6,
   "metadata": {
    "collapsed": true
   },
   "outputs": [],
   "source": [
    "# join via segment id, specifying 'outer' will account for empty segments\n",
    "df = pandas.DataFrame({\"Histogram\": seg.histogram})\n",
    "df[\"Segment_IDs\"] = df.index\n",
    "stats_table = pandas.merge(df, stats_table, how='outer', on=\"Segment_IDs\")\n",
    "nrows = stats_table.shape[0]"
   ]
  },
  {
   "cell_type": "code",
   "execution_count": 7,
   "metadata": {
    "collapsed": true
   },
   "outputs": [],
   "source": [
    "# assign random colours to each segment\n",
    "stats_table.insert(1, \"Red\", numpy.random.randint(0, 256, (nrows)))\n",
    "stats_table.insert(2, \"Green\", numpy.random.randint(0, 256, (nrows)))\n",
    "stats_table.insert(3, \"Blue\", numpy.random.randint(0, 256, (nrows)))\n",
    "stats_table.insert(4, \"Alpha\", 255)"
   ]
  },
  {
   "cell_type": "code",
   "execution_count": 8,
   "metadata": {
    "collapsed": true
   },
   "outputs": [],
   "source": [
    "# define the output image specifications\n",
    "kwargs = {'width': dims[1],\n",
    "          'height': dims[0],\n",
    "          'count': 1,\n",
    "          'compression': 4,\n",
    "          'chunks': (100, 100),\n",
    "          'blocksize': 100,\n",
    "          'dtype': seg_data.dtype.name}"
   ]
  },
  {
   "cell_type": "code",
   "execution_count": 9,
   "metadata": {
    "collapsed": false
   },
   "outputs": [],
   "source": [
    "with kea.open('sieve-example.kea', 'w', **kwargs) as src:\n",
    "    src.write(seg.array, 1)\n",
    "    \n",
    "    # define the layer type as thematic (labelled, classified etc)\n",
    "    src.write_layer_type(1, kc.LayerType.thematic)\n",
    "    \n",
    "    # write the stats table as an attribute table\n",
    "    usage = {\"Red\": \"Red\",\n",
    "             \"Green\": \"Green\",\n",
    "             \"Blue\": \"Blue\",\n",
    "             \"Alpha\": \"Alpha\",\n",
    "             \"Histogram\": \"PixelCount\"}\n",
    "    \n",
    "    src.write_rat(stats_table, 1, usage=usage)"
   ]
  },
  {
   "cell_type": "code",
   "execution_count": 10,
   "metadata": {
    "collapsed": true
   },
   "outputs": [],
   "source": [
    "with kea.open('sieve-example.kea') as ds:\n",
    "    tbl = ds.read_rat()"
   ]
  },
  {
   "cell_type": "code",
   "execution_count": 11,
   "metadata": {
    "collapsed": false
   },
   "outputs": [
    {
     "data": {
      "text/html": [
       "<div>\n",
       "<table border=\"1\" class=\"dataframe\">\n",
       "  <thead>\n",
       "    <tr style=\"text-align: right;\">\n",
       "      <th></th>\n",
       "      <th>Histogram</th>\n",
       "      <th>Red</th>\n",
       "      <th>Green</th>\n",
       "      <th>Blue</th>\n",
       "      <th>Alpha</th>\n",
       "      <th>Segment_IDs</th>\n",
       "      <th>Mean</th>\n",
       "      <th>Max</th>\n",
       "      <th>Min</th>\n",
       "      <th>StdDev</th>\n",
       "      <th>Total</th>\n",
       "      <th>Area</th>\n",
       "    </tr>\n",
       "  </thead>\n",
       "  <tbody>\n",
       "    <tr>\n",
       "      <th>0</th>\n",
       "      <td>742125</td>\n",
       "      <td>131</td>\n",
       "      <td>162</td>\n",
       "      <td>108</td>\n",
       "      <td>255</td>\n",
       "      <td>0</td>\n",
       "      <td>NaN</td>\n",
       "      <td>NaN</td>\n",
       "      <td>NaN</td>\n",
       "      <td>NaN</td>\n",
       "      <td>NaN</td>\n",
       "      <td>NaN</td>\n",
       "    </tr>\n",
       "    <tr>\n",
       "      <th>1</th>\n",
       "      <td>38</td>\n",
       "      <td>218</td>\n",
       "      <td>190</td>\n",
       "      <td>73</td>\n",
       "      <td>255</td>\n",
       "      <td>1</td>\n",
       "      <td>0.524985</td>\n",
       "      <td>0.970592</td>\n",
       "      <td>0.015172</td>\n",
       "      <td>0.281338</td>\n",
       "      <td>19.949436</td>\n",
       "      <td>38.0</td>\n",
       "    </tr>\n",
       "    <tr>\n",
       "      <th>2</th>\n",
       "      <td>39</td>\n",
       "      <td>74</td>\n",
       "      <td>75</td>\n",
       "      <td>197</td>\n",
       "      <td>255</td>\n",
       "      <td>2</td>\n",
       "      <td>0.453546</td>\n",
       "      <td>0.989691</td>\n",
       "      <td>0.036141</td>\n",
       "      <td>0.299307</td>\n",
       "      <td>17.688289</td>\n",
       "      <td>39.0</td>\n",
       "    </tr>\n",
       "    <tr>\n",
       "      <th>3</th>\n",
       "      <td>69</td>\n",
       "      <td>238</td>\n",
       "      <td>230</td>\n",
       "      <td>245</td>\n",
       "      <td>255</td>\n",
       "      <td>3</td>\n",
       "      <td>0.471219</td>\n",
       "      <td>0.970443</td>\n",
       "      <td>0.001869</td>\n",
       "      <td>0.294685</td>\n",
       "      <td>32.514120</td>\n",
       "      <td>69.0</td>\n",
       "    </tr>\n",
       "    <tr>\n",
       "      <th>4</th>\n",
       "      <td>52</td>\n",
       "      <td>107</td>\n",
       "      <td>65</td>\n",
       "      <td>156</td>\n",
       "      <td>255</td>\n",
       "      <td>4</td>\n",
       "      <td>0.480466</td>\n",
       "      <td>0.998480</td>\n",
       "      <td>0.026320</td>\n",
       "      <td>0.309385</td>\n",
       "      <td>24.984221</td>\n",
       "      <td>52.0</td>\n",
       "    </tr>\n",
       "  </tbody>\n",
       "</table>\n",
       "</div>"
      ],
      "text/plain": [
       "   Histogram  Red  Green  Blue  Alpha  Segment_IDs      Mean       Max  \\\n",
       "0     742125  131    162   108    255            0       NaN       NaN   \n",
       "1         38  218    190    73    255            1  0.524985  0.970592   \n",
       "2         39   74     75   197    255            2  0.453546  0.989691   \n",
       "3         69  238    230   245    255            3  0.471219  0.970443   \n",
       "4         52  107     65   156    255            4  0.480466  0.998480   \n",
       "\n",
       "        Min    StdDev      Total  Area  \n",
       "0       NaN       NaN        NaN   NaN  \n",
       "1  0.015172  0.281338  19.949436  38.0  \n",
       "2  0.036141  0.299307  17.688289  39.0  \n",
       "3  0.001869  0.294685  32.514120  69.0  \n",
       "4  0.026320  0.309385  24.984221  52.0  "
      ]
     },
     "execution_count": 11,
     "metadata": {},
     "output_type": "execute_result"
    }
   ],
   "source": [
    "tbl.head(5)"
   ]
  },
  {
   "cell_type": "code",
   "execution_count": 12,
   "metadata": {
    "collapsed": false
   },
   "outputs": [
    {
     "data": {
      "text/html": [
       "<div>\n",
       "<table border=\"1\" class=\"dataframe\">\n",
       "  <thead>\n",
       "    <tr style=\"text-align: right;\">\n",
       "      <th></th>\n",
       "      <th>Histogram</th>\n",
       "      <th>Red</th>\n",
       "      <th>Green</th>\n",
       "      <th>Blue</th>\n",
       "      <th>Alpha</th>\n",
       "      <th>Segment_IDs</th>\n",
       "      <th>Mean</th>\n",
       "      <th>Max</th>\n",
       "      <th>Min</th>\n",
       "      <th>StdDev</th>\n",
       "      <th>Total</th>\n",
       "      <th>Area</th>\n",
       "    </tr>\n",
       "  </thead>\n",
       "  <tbody>\n",
       "    <tr>\n",
       "      <th>0</th>\n",
       "      <td>742125</td>\n",
       "      <td>131</td>\n",
       "      <td>162</td>\n",
       "      <td>108</td>\n",
       "      <td>255</td>\n",
       "      <td>0</td>\n",
       "      <td>NaN</td>\n",
       "      <td>NaN</td>\n",
       "      <td>NaN</td>\n",
       "      <td>NaN</td>\n",
       "      <td>NaN</td>\n",
       "      <td>NaN</td>\n",
       "    </tr>\n",
       "    <tr>\n",
       "      <th>1</th>\n",
       "      <td>38</td>\n",
       "      <td>218</td>\n",
       "      <td>190</td>\n",
       "      <td>73</td>\n",
       "      <td>255</td>\n",
       "      <td>1</td>\n",
       "      <td>0.524985</td>\n",
       "      <td>0.970592</td>\n",
       "      <td>0.015172</td>\n",
       "      <td>0.281338</td>\n",
       "      <td>19.949436</td>\n",
       "      <td>38.0</td>\n",
       "    </tr>\n",
       "    <tr>\n",
       "      <th>2</th>\n",
       "      <td>39</td>\n",
       "      <td>74</td>\n",
       "      <td>75</td>\n",
       "      <td>197</td>\n",
       "      <td>255</td>\n",
       "      <td>2</td>\n",
       "      <td>0.453546</td>\n",
       "      <td>0.989691</td>\n",
       "      <td>0.036141</td>\n",
       "      <td>0.299307</td>\n",
       "      <td>17.688289</td>\n",
       "      <td>39.0</td>\n",
       "    </tr>\n",
       "    <tr>\n",
       "      <th>3</th>\n",
       "      <td>69</td>\n",
       "      <td>238</td>\n",
       "      <td>230</td>\n",
       "      <td>245</td>\n",
       "      <td>255</td>\n",
       "      <td>3</td>\n",
       "      <td>0.471219</td>\n",
       "      <td>0.970443</td>\n",
       "      <td>0.001869</td>\n",
       "      <td>0.294685</td>\n",
       "      <td>32.514120</td>\n",
       "      <td>69.0</td>\n",
       "    </tr>\n",
       "    <tr>\n",
       "      <th>4</th>\n",
       "      <td>52</td>\n",
       "      <td>107</td>\n",
       "      <td>65</td>\n",
       "      <td>156</td>\n",
       "      <td>255</td>\n",
       "      <td>4</td>\n",
       "      <td>0.480466</td>\n",
       "      <td>0.998480</td>\n",
       "      <td>0.026320</td>\n",
       "      <td>0.309385</td>\n",
       "      <td>24.984221</td>\n",
       "      <td>52.0</td>\n",
       "    </tr>\n",
       "  </tbody>\n",
       "</table>\n",
       "</div>"
      ],
      "text/plain": [
       "   Histogram  Red  Green  Blue  Alpha  Segment_IDs      Mean       Max  \\\n",
       "0     742125  131    162   108    255            0       NaN       NaN   \n",
       "1         38  218    190    73    255            1  0.524985  0.970592   \n",
       "2         39   74     75   197    255            2  0.453546  0.989691   \n",
       "3         69  238    230   245    255            3  0.471219  0.970443   \n",
       "4         52  107     65   156    255            4  0.480466  0.998480   \n",
       "\n",
       "        Min    StdDev      Total  Area  \n",
       "0       NaN       NaN        NaN   NaN  \n",
       "1  0.015172  0.281338  19.949436  38.0  \n",
       "2  0.036141  0.299307  17.688289  39.0  \n",
       "3  0.001869  0.294685  32.514120  69.0  \n",
       "4  0.026320  0.309385  24.984221  52.0  "
      ]
     },
     "execution_count": 12,
     "metadata": {},
     "output_type": "execute_result"
    }
   ],
   "source": [
    "stats_table.head(5)"
   ]
  },
  {
   "cell_type": "code",
   "execution_count": null,
   "metadata": {
    "collapsed": true
   },
   "outputs": [],
   "source": []
  }
 ],
 "metadata": {
  "kernelspec": {
   "display_name": "Python 2",
   "language": "python",
   "name": "python2"
  },
  "language_info": {
   "codemirror_mode": {
    "name": "ipython",
    "version": 2
   },
   "file_extension": ".py",
   "mimetype": "text/x-python",
   "name": "python",
   "nbconvert_exporter": "python",
   "pygments_lexer": "ipython2",
   "version": "2.7.11"
  }
 },
 "nbformat": 4,
 "nbformat_minor": 0
}
